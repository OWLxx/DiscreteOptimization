{
 "cells": [
  {
   "cell_type": "markdown",
   "metadata": {},
   "source": [
    "The traditional lines of attack for the NP-hard problems are the following:\n",
    "\n",
    "* Devising exact algorithms, which work reasonably fast only for small problem sizes.\n",
    "* Devising \"suboptimal\" or heuristic algorithms, i.e., algorithms that deliver either seemingly or probably good solutions, but which could not be proved to be optimal.\n",
    "* Finding special cases for the problem (\"subproblems\") for which either better or exact heuristics are possible."
   ]
  },
  {
   "cell_type": "markdown",
   "metadata": {},
   "source": [
    "Progressive improvement algorithms which use techniques reminiscent of **linear programming**. Works well for up to 200 cities."
   ]
  },
  {
   "cell_type": "markdown",
   "metadata": {},
   "source": [
    "Implementations of branch-and-bound and problem-specific cut generation (branch-and-cut[15]); this is the method of choice for solving large instances. This approach holds the current record, solving an instance with 85,900 cities, see Applegate et al. (2006)."
   ]
  },
  {
   "cell_type": "markdown",
   "metadata": {},
   "source": [
    "Heuristics Algorithms\n",
    "### My approach, KNN, optimal solution for each subproblem, then connect is together\n",
    "* Nearest neighbor\n",
    "* Bitonic tour:a set of points is the minimum-perimeter monotone polygon that has the points as its vertices; it can be computed efficiently by dynamic programming\n",
    "* Christofides' algorithm for the TSP- combines the minimum spanning tree with a solution of another problem, minimum-weight perfect matching\n",
    "    1. Find a minimum spanning tree for the problem\n",
    "    2. Create duplicates for every edge to create an Eulerian graph\n",
    "    3. Find an Eulerian tour for this graph\n",
    "    4. Convert to TSP: if a city is visited twice, create a shortcut from the city before this in the tour to the one after this."
   ]
  },
  {
   "cell_type": "code",
   "execution_count": null,
   "metadata": {
    "collapsed": true
   },
   "outputs": [],
   "source": []
  }
 ],
 "metadata": {
  "kernelspec": {
   "display_name": "Python 3",
   "language": "python",
   "name": "python3"
  },
  "language_info": {
   "codemirror_mode": {
    "name": "ipython",
    "version": 3
   },
   "file_extension": ".py",
   "mimetype": "text/x-python",
   "name": "python",
   "nbconvert_exporter": "python",
   "pygments_lexer": "ipython3",
   "version": "3.6.3"
  }
 },
 "nbformat": 4,
 "nbformat_minor": 2
}
