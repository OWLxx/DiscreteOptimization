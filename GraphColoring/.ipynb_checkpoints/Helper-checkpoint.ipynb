{
 "cells": [
  {
   "cell_type": "markdown",
   "metadata": {},
   "source": [
    "### Bounds on the chromatic number\n",
    "A [greedy coloring](https://en.wikipedia.org/wiki/Greedy_coloring)(optimal ordering) shows that every graph can be colored with one more color than the maximum vertex degree,\n",
    "\n",
    "x(G) <= △(G) + 1\n",
    "### [Perfect Ordering](https://en.wikipedia.org/wiki/Perfectly_orderable_graph)"
   ]
  },
  {
   "cell_type": "code",
   "execution_count": null,
   "metadata": {
    "collapsed": true
   },
   "outputs": [],
   "source": []
  }
 ],
 "metadata": {
  "kernelspec": {
   "display_name": "Python 3",
   "language": "python",
   "name": "python3"
  },
  "language_info": {
   "codemirror_mode": {
    "name": "ipython",
    "version": 3
   },
   "file_extension": ".py",
   "mimetype": "text/x-python",
   "name": "python",
   "nbconvert_exporter": "python",
   "pygments_lexer": "ipython3",
   "version": "3.6.3"
  }
 },
 "nbformat": 4,
 "nbformat_minor": 2
}
